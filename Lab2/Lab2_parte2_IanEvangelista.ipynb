{
 "cells": [
  {
   "cell_type": "code",
   "execution_count": null,
   "metadata": {},
   "outputs": [],
   "source": [
    "import pandas as pd\n",
    "import matplotlib.pyplot as plt\n",
    "\n",
    "data = pd.read_csv(\"/dataset-anonimizado.csv\")\n",
    "semestres_restantes = data['Quantos semestres faltam para você seformar?']\n",
    "linguagens_programacao = data['Marque as linguagens de programação que você já teve algum contato prático:'].apply(lambda x: len(x.split('\\n')))\n",
    "experiencia_pd = data['Você já teve experiência de participação em projetos de Pesquisa e Desenvolvimento?']\n",
    "cores = ['green' if exp == 'Sim' else 'red' for exp in experiencia_pd]\n",
    "transparencia = 1\n",
    "tamanho_pontos = 200\n",
    "\n",
    "semestres_restantes_sorted, linguagens_programacao_sorted, cores_sorted = zip(*sorted(zip(semestres_restantes, linguagens_programacao, cores), reverse=True))\n",
    "\n",
    "plt.figure(figsize=(10, 6))\n",
    "plt.scatter(semestres_restantes_sorted[::-1], linguagens_programacao_sorted[::-1], c=cores_sorted[::-1], alpha=transparencia, s=tamanho_pontos)\n",
    "plt.xlabel('Semestres Restantes')\n",
    "plt.ylabel('Quantidade de Linguagens de Programação')\n",
    "plt.title('Relação entre experiência P&D com tempo de curso')\n",
    "\n",
    "plt.legend(handles=[\n",
    "    plt.Line2D([0], [0], marker='o', color='w', markerfacecolor='green', markersize=10, label='Com Experiência em P&D'),\n",
    "    plt.Line2D([0], [0], marker='o', color='w', markerfacecolor='red', markersize=10, label='Sem Experiência em P&D')\n",
    "], title='Experiência em P&D')\n",
    "\n",
    "plt.grid(True)\n",
    "plt.tight_layout()\n",
    "plt.show()\n"
   ]
  }
 ],
 "metadata": {
  "language_info": {
   "name": "python"
  }
 },
 "nbformat": 4,
 "nbformat_minor": 2
}
